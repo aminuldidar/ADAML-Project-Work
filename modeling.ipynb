{
 "cells": [
  {
   "cell_type": "markdown",
   "metadata": {
    "collapsed": false
   },
   "source": [
    "#### Importing necessary libraries"
   ]
  },
  {
   "cell_type": "code",
   "execution_count": 1,
   "metadata": {
    "collapsed": false,
    "pycharm": {
     "name": "#%%\n"
    },
    "ExecuteTime": {
     "end_time": "2023-10-15T16:42:08.469607911Z",
     "start_time": "2023-10-15T16:42:08.463515411Z"
    }
   },
   "outputs": [],
   "source": [
    "import copy\n",
    "\n",
    "# Importing necessary libraries\n",
    "import pandas as pd\n",
    "import numpy as np\n",
    "import datetime\n"
   ]
  },
  {
   "cell_type": "code",
   "execution_count": 2,
   "metadata": {
    "collapsed": false,
    "pycharm": {
     "name": "#%%\n"
    },
    "ExecuteTime": {
     "end_time": "2023-10-15T16:42:09.589687944Z",
     "start_time": "2023-10-15T16:42:08.468203663Z"
    }
   },
   "outputs": [],
   "source": [
    "# Load the dataset and preprocess\n",
    "df = pd.read_csv(\"preprocessed_dataset.csv\")\n",
    "df['date'] = pd.to_datetime(df['date'])\n",
    "df.set_index('date', inplace=True)"
   ]
  },
  {
   "cell_type": "code",
   "execution_count": 3,
   "metadata": {
    "collapsed": false,
    "pycharm": {
     "name": "#%%\n"
    },
    "ExecuteTime": {
     "end_time": "2023-10-15T16:42:09.596456890Z",
     "start_time": "2023-10-15T16:42:09.577940108Z"
    }
   },
   "outputs": [
    {
     "data": {
      "text/plain": "                     % Iron Feed  % Silica Feed  Starch Flow  Amina Flow  \\\ndate                                                                       \n2017-03-10 01:03:00        56.39          13.53      2082.27     391.733   \n2017-03-10 01:03:20        55.20          16.98      3019.53     557.434   \n2017-03-10 01:03:40        55.20          16.98      3024.41     563.965   \n2017-03-10 01:04:00        55.20          16.98      3043.46     568.054   \n2017-03-10 01:04:20        55.20          16.98      3047.36     568.665   \n\n                     Ore Pulp Flow  Ore Pulp pH  Ore Pulp Density  \\\ndate                                                                \n2017-03-10 01:03:00        403.738      9.70067           1.74925   \n2017-03-10 01:03:20        395.713     10.06640           1.74000   \n2017-03-10 01:03:40        397.383     10.06720           1.74000   \n2017-03-10 01:04:00        399.668     10.06800           1.74000   \n2017-03-10 01:04:20        397.939     10.06890           1.74000   \n\n                     Flotation Column 01 Air Flow  \\\ndate                                                \n2017-03-10 01:03:00                       250.509   \n2017-03-10 01:03:20                       249.214   \n2017-03-10 01:03:40                       249.719   \n2017-03-10 01:04:00                       249.741   \n2017-03-10 01:04:20                       249.917   \n\n                     Flotation Column 02 Air Flow  \\\ndate                                                \n2017-03-10 01:03:00                       251.163   \n2017-03-10 01:03:20                       253.235   \n2017-03-10 01:03:40                       250.532   \n2017-03-10 01:04:00                       247.874   \n2017-03-10 01:04:20                       254.487   \n\n                     Flotation Column 03 Air Flow  ...  \\\ndate                                               ...   \n2017-03-10 01:03:00                       250.610  ...   \n2017-03-10 01:03:20                       250.576  ...   \n2017-03-10 01:03:40                       250.862  ...   \n2017-03-10 01:04:00                       250.313  ...   \n2017-03-10 01:04:20                       250.049  ...   \n\n                     Flotation Column 06 Air Flow  \\\ndate                                                \n2017-03-10 01:03:00                       250.389   \n2017-03-10 01:03:20                       250.225   \n2017-03-10 01:03:40                       250.137   \n2017-03-10 01:04:00                       251.345   \n2017-03-10 01:04:20                       250.422   \n\n                     Flotation Column 07 Air Flow  Flotation Column 01 Level  \\\ndate                                                                           \n2017-03-10 01:03:00                       249.430                    606.023   \n2017-03-10 01:03:20                       250.884                    457.396   \n2017-03-10 01:03:40                       248.994                    451.891   \n2017-03-10 01:04:00                       248.071                    451.240   \n2017-03-10 01:04:20                       251.147                    452.441   \n\n                     Flotation Column 02 Level  Flotation Column 03 Level  \\\ndate                                                                        \n2017-03-10 01:03:00                    596.422                    604.776   \n2017-03-10 01:03:20                    432.962                    424.954   \n2017-03-10 01:03:40                    429.560                    432.939   \n2017-03-10 01:04:00                    468.927                    434.610   \n2017-03-10 01:04:20                    458.165                    442.865   \n\n                     Flotation Column 04 Level  Flotation Column 05 Level  \\\ndate                                                                        \n2017-03-10 01:03:00                    437.700                    430.352   \n2017-03-10 01:03:20                    443.558                    502.255   \n2017-03-10 01:03:40                    448.086                    496.363   \n2017-03-10 01:04:00                    449.688                    484.411   \n2017-03-10 01:04:20                    446.210                    471.411   \n\n                     Flotation Column 06 Level  Flotation Column 07 Level  \\\ndate                                                                        \n2017-03-10 01:03:00                    433.920                    443.036   \n2017-03-10 01:03:20                    446.370                    523.344   \n2017-03-10 01:03:40                    445.922                    498.075   \n2017-03-10 01:04:00                    447.826                    458.567   \n2017-03-10 01:04:20                    437.690                    427.669   \n\n                     % Silica Concentrate  \ndate                                       \n2017-03-10 01:03:00                  1.40  \n2017-03-10 01:03:20                  1.31  \n2017-03-10 01:03:40                  1.31  \n2017-03-10 01:04:00                  1.31  \n2017-03-10 01:04:20                  1.31  \n\n[5 rows x 22 columns]",
      "text/html": "<div>\n<style scoped>\n    .dataframe tbody tr th:only-of-type {\n        vertical-align: middle;\n    }\n\n    .dataframe tbody tr th {\n        vertical-align: top;\n    }\n\n    .dataframe thead th {\n        text-align: right;\n    }\n</style>\n<table border=\"1\" class=\"dataframe\">\n  <thead>\n    <tr style=\"text-align: right;\">\n      <th></th>\n      <th>% Iron Feed</th>\n      <th>% Silica Feed</th>\n      <th>Starch Flow</th>\n      <th>Amina Flow</th>\n      <th>Ore Pulp Flow</th>\n      <th>Ore Pulp pH</th>\n      <th>Ore Pulp Density</th>\n      <th>Flotation Column 01 Air Flow</th>\n      <th>Flotation Column 02 Air Flow</th>\n      <th>Flotation Column 03 Air Flow</th>\n      <th>...</th>\n      <th>Flotation Column 06 Air Flow</th>\n      <th>Flotation Column 07 Air Flow</th>\n      <th>Flotation Column 01 Level</th>\n      <th>Flotation Column 02 Level</th>\n      <th>Flotation Column 03 Level</th>\n      <th>Flotation Column 04 Level</th>\n      <th>Flotation Column 05 Level</th>\n      <th>Flotation Column 06 Level</th>\n      <th>Flotation Column 07 Level</th>\n      <th>% Silica Concentrate</th>\n    </tr>\n    <tr>\n      <th>date</th>\n      <th></th>\n      <th></th>\n      <th></th>\n      <th></th>\n      <th></th>\n      <th></th>\n      <th></th>\n      <th></th>\n      <th></th>\n      <th></th>\n      <th></th>\n      <th></th>\n      <th></th>\n      <th></th>\n      <th></th>\n      <th></th>\n      <th></th>\n      <th></th>\n      <th></th>\n      <th></th>\n      <th></th>\n    </tr>\n  </thead>\n  <tbody>\n    <tr>\n      <th>2017-03-10 01:03:00</th>\n      <td>56.39</td>\n      <td>13.53</td>\n      <td>2082.27</td>\n      <td>391.733</td>\n      <td>403.738</td>\n      <td>9.70067</td>\n      <td>1.74925</td>\n      <td>250.509</td>\n      <td>251.163</td>\n      <td>250.610</td>\n      <td>...</td>\n      <td>250.389</td>\n      <td>249.430</td>\n      <td>606.023</td>\n      <td>596.422</td>\n      <td>604.776</td>\n      <td>437.700</td>\n      <td>430.352</td>\n      <td>433.920</td>\n      <td>443.036</td>\n      <td>1.40</td>\n    </tr>\n    <tr>\n      <th>2017-03-10 01:03:20</th>\n      <td>55.20</td>\n      <td>16.98</td>\n      <td>3019.53</td>\n      <td>557.434</td>\n      <td>395.713</td>\n      <td>10.06640</td>\n      <td>1.74000</td>\n      <td>249.214</td>\n      <td>253.235</td>\n      <td>250.576</td>\n      <td>...</td>\n      <td>250.225</td>\n      <td>250.884</td>\n      <td>457.396</td>\n      <td>432.962</td>\n      <td>424.954</td>\n      <td>443.558</td>\n      <td>502.255</td>\n      <td>446.370</td>\n      <td>523.344</td>\n      <td>1.31</td>\n    </tr>\n    <tr>\n      <th>2017-03-10 01:03:40</th>\n      <td>55.20</td>\n      <td>16.98</td>\n      <td>3024.41</td>\n      <td>563.965</td>\n      <td>397.383</td>\n      <td>10.06720</td>\n      <td>1.74000</td>\n      <td>249.719</td>\n      <td>250.532</td>\n      <td>250.862</td>\n      <td>...</td>\n      <td>250.137</td>\n      <td>248.994</td>\n      <td>451.891</td>\n      <td>429.560</td>\n      <td>432.939</td>\n      <td>448.086</td>\n      <td>496.363</td>\n      <td>445.922</td>\n      <td>498.075</td>\n      <td>1.31</td>\n    </tr>\n    <tr>\n      <th>2017-03-10 01:04:00</th>\n      <td>55.20</td>\n      <td>16.98</td>\n      <td>3043.46</td>\n      <td>568.054</td>\n      <td>399.668</td>\n      <td>10.06800</td>\n      <td>1.74000</td>\n      <td>249.741</td>\n      <td>247.874</td>\n      <td>250.313</td>\n      <td>...</td>\n      <td>251.345</td>\n      <td>248.071</td>\n      <td>451.240</td>\n      <td>468.927</td>\n      <td>434.610</td>\n      <td>449.688</td>\n      <td>484.411</td>\n      <td>447.826</td>\n      <td>458.567</td>\n      <td>1.31</td>\n    </tr>\n    <tr>\n      <th>2017-03-10 01:04:20</th>\n      <td>55.20</td>\n      <td>16.98</td>\n      <td>3047.36</td>\n      <td>568.665</td>\n      <td>397.939</td>\n      <td>10.06890</td>\n      <td>1.74000</td>\n      <td>249.917</td>\n      <td>254.487</td>\n      <td>250.049</td>\n      <td>...</td>\n      <td>250.422</td>\n      <td>251.147</td>\n      <td>452.441</td>\n      <td>458.165</td>\n      <td>442.865</td>\n      <td>446.210</td>\n      <td>471.411</td>\n      <td>437.690</td>\n      <td>427.669</td>\n      <td>1.31</td>\n    </tr>\n  </tbody>\n</table>\n<p>5 rows × 22 columns</p>\n</div>"
     },
     "execution_count": 3,
     "metadata": {},
     "output_type": "execute_result"
    }
   ],
   "source": [
    "df.head()"
   ]
  },
  {
   "cell_type": "markdown",
   "metadata": {
    "collapsed": false,
    "pycharm": {
     "name": "#%% md\n"
    }
   },
   "source": [
    "#### Useful variables selection"
   ]
  },
  {
   "cell_type": "code",
   "execution_count": 4,
   "metadata": {
    "collapsed": false,
    "pycharm": {
     "name": "#%%\n"
    },
    "ExecuteTime": {
     "end_time": "2023-10-15T16:42:09.609728700Z",
     "start_time": "2023-10-15T16:42:09.594573417Z"
    }
   },
   "outputs": [
    {
     "name": "stdout",
     "output_type": "stream",
     "text": [
      "TODO\n"
     ]
    }
   ],
   "source": [
    "print(\"TODO\")"
   ]
  },
  {
   "cell_type": "markdown",
   "metadata": {
    "collapsed": false
   },
   "source": [
    "#### PLS loop"
   ]
  },
  {
   "cell_type": "code",
   "execution_count": null,
   "metadata": {
    "collapsed": false,
    "pycharm": {
     "name": "#%%\n"
    },
    "is_executing": true,
    "ExecuteTime": {
     "start_time": "2023-10-15T16:44:49.035385164Z"
    }
   },
   "outputs": [
    {
     "name": "stderr",
     "output_type": "stream",
     "text": [
      "  0% (0 of 10) |                         | Elapsed Time: 0:00:00 ETA:  --:--:--"
     ]
    }
   ],
   "source": [
    "from sklearn.preprocessing import StandardScaler\n",
    "from sklearn.cross_decomposition import PLSRegression\n",
    "from model import Model\n",
    "from sklearn.metrics import mean_squared_error, r2_score, f1_score\n",
    "import progressbar  # pip install progressbar2\n",
    "import copy\n",
    "import warnings\n",
    "warnings.filterwarnings('ignore')\n",
    "\n",
    "# Reduce the amount of observations (with averaging)\n",
    "df = df.resample(\"T\").mean()\n",
    "\n",
    "included_rows1 = [df.index.get_loc(datetime.datetime(2017,4,23,19,0,0)),\n",
    "                    df.index.get_loc(datetime.datetime(2017,5,13,0,59,00))]\n",
    "included_rows2 = [df.index.get_loc(datetime.datetime(2017,6,15,1,0,0)),\n",
    "                    df.index.get_loc(datetime.datetime(2017,7,24,0,59,00))]\n",
    "included_rows3 = [df.index.get_loc(datetime.datetime(2017,8,15,1,0,0)),\n",
    "                    df.index.get_loc(datetime.datetime(2017,9,10,0,0,0))]\n",
    "\n",
    "df_array = df.to_numpy()\n",
    "\n",
    "models = []\n",
    "\n",
    "# Find best window_size and num_of_components\n",
    "for window_size in progressbar.progressbar([10, 20, 30, 40, 50, 60, 70, 80, 90, 100]):  # [10, 20, 30, ...]\n",
    "        # Division of data into training, validation and test sets for the normal functioning times:\n",
    "        # about 70% for training, 15% for validation, 15% for testing\n",
    "        test_size = round(0.15 * window_size)\n",
    "        test_start = '2017-04-23 00:00:00' # example start of test partition\n",
    "        test_start = datetime.datetime.strptime(test_start, '%Y-%m-%d %H:%M:%S')\n",
    "\n",
    "        # Models with same window size (they all take the same windows, no need to get them multiple times...)\n",
    "        models_one_win_size = [Model((window_size, i), PLSRegression(n_components=i), []) \n",
    "                               for i in range(1, df_array.shape[1] - 1)]\n",
    "\n",
    "        flag = 0\n",
    "        row_number = df.index.get_loc(test_start)\n",
    "        # Iterate through the data\n",
    "        while flag == 0:\n",
    "            validation_data, training_data = None, None\n",
    "            test_y_end = row_number+test_size + 1\n",
    "            training_X_start = row_number - round(0.85 * window_size)\n",
    "            # Stay within included rows\n",
    "            if ((test_y_end <= included_rows1[1] and training_X_start >= included_rows1[0])\n",
    "            or (test_y_end <= included_rows2[1] and training_X_start >= included_rows2[0])\n",
    "            or (test_y_end <= included_rows3[1] and training_X_start >= included_rows3[0])):\n",
    "\n",
    "                scaler = StandardScaler()\n",
    "\n",
    "                # Validation set\n",
    "                validation_X = df_array[row_number-test_size:row_number,:-1]\n",
    "                validation_y = df_array[row_number-test_size+1:row_number+1,-1]\n",
    "\n",
    "                # Training set\n",
    "                training_X = df_array[training_X_start:row_number-test_size,:-1]\n",
    "                training_y = df_array[training_X_start+1:row_number-test_size+1,-1]\n",
    "\n",
    "                # TODO\n",
    "                # We should scale only X, correct?\n",
    "                # Compute the mean and std with training data\n",
    "                scaler.fit(training_X)\n",
    "                # Perform standardization\n",
    "                training_X = scaler.transform(training_X)\n",
    "                validation_X = scaler.transform(validation_X)\n",
    "\n",
    "                training_y = training_y\n",
    "                validation_y = validation_y\n",
    "\n",
    "                # Lagged predictor variables and the response variable in one matrix\n",
    "                validation_data = np.column_stack([validation_X, validation_y])\n",
    "                training_data = np.column_stack([training_X, training_y])\n",
    "\n",
    "                # Add the same scaler to all the models with same window size\n",
    "                for model in models_one_win_size:\n",
    "                    model.scalers.append(copy.deepcopy(scaler))\n",
    "\n",
    "                if test_y_end == included_rows3[1]:\n",
    "                    flag = 1\n",
    "            else:\n",
    "                if test_y_end > included_rows3[1]:\n",
    "                    flag = 1\n",
    "                    \n",
    "            row_number = row_number + 1\n",
    "            \n",
    "            ######################    \n",
    "            # Data window generated, all models here have same window size, only different num of components...\n",
    "            if validation_data is None or training_data is None or np.all(validation_data[:, :-1] == 0.):\n",
    "                continue\n",
    "\n",
    "            # Iterate through all the models with same window size and fit, predict, get metrics\n",
    "            for model in models_one_win_size:\n",
    "                win_X = np.array(training_data[:, :-1])\n",
    "                win_y = np.expand_dims(np.array(training_data[:, -1]), 1)\n",
    "                \n",
    "                try:\n",
    "                    model.model.fit(win_X, win_y)\n",
    "                except Exception as e:\n",
    "                    # print(win_X, \"\\n\", win_y, \"\\n\", e)\n",
    "                    continue\n",
    "                    \n",
    "                # Predict the target values\n",
    "                y_train_pred = model.model.predict(win_X)\n",
    "                model.train_metrics[0].append(mean_squared_error(win_y, y_train_pred))\n",
    "                model.train_metrics[1].append(None)  # TODO\n",
    "                model.train_metrics[2].append(r2_score(win_y, y_train_pred))\n",
    "    \n",
    "                win_X = validation_data[:, :-1]\n",
    "                win_y = np.expand_dims(np.array(validation_data[:, -1]), 1)\n",
    "                # Predict the target values\n",
    "                y_valid_pred = model.model.predict(win_X)\n",
    "                model.valid_metrics[0].append(mean_squared_error(win_y, y_valid_pred))\n",
    "                model.valid_metrics[1].append(None)  # TODO\n",
    "                model.valid_metrics[2].append(r2_score(win_y, y_valid_pred))\n",
    "\n",
    "        models.extend(models_one_win_size)\n",
    "        "
   ]
  },
  {
   "cell_type": "code",
   "execution_count": 26,
   "metadata": {
    "collapsed": false,
    "pycharm": {
     "name": "#%%\n"
    },
    "ExecuteTime": {
     "end_time": "2023-10-15T16:26:49.881430407Z",
     "start_time": "2023-10-15T16:26:49.794395096Z"
    }
   },
   "outputs": [
    {
     "data": {
      "text/plain": "<Figure size 640x480 with 1 Axes>",
      "image/png": "[encoded data removed]"
     },
     "metadata": {},
     "output_type": "display_data"
    },
    {
     "name": "stdout",
     "output_type": "stream",
     "text": [
      "10 0 :  nan\n",
      "10 1 :  nan\n",
      "10 2 :  nan\n",
      "10 3 :  nan\n",
      "10 4 :  nan\n",
      "10 5 :  nan\n",
      "10 6 :  nan\n",
      "10 7 :  nan\n",
      "10 8 :  nan\n",
      "10 9 :  nan\n",
      "10 10 :  nan\n",
      "10 11 :  nan\n",
      "10 12 :  nan\n",
      "10 13 :  nan\n",
      "10 14 :  nan\n",
      "10 15 :  nan\n",
      "10 16 :  nan\n",
      "10 17 :  nan\n",
      "10 18 :  nan\n",
      "10 19 :  nan\n",
      "10 20 :  nan\n",
      "20 0 :  nan\n",
      "20 1 :  nan\n",
      "20 2 :  nan\n",
      "20 3 :  nan\n",
      "20 4 :  nan\n",
      "20 5 :  nan\n",
      "20 6 :  nan\n",
      "20 7 :  nan\n",
      "20 8 :  nan\n",
      "20 9 :  nan\n",
      "20 10 :  nan\n",
      "20 11 :  nan\n",
      "20 12 :  nan\n",
      "20 13 :  nan\n",
      "20 14 :  nan\n",
      "20 15 :  nan\n",
      "20 16 :  nan\n",
      "20 17 :  nan\n",
      "20 18 :  nan\n",
      "20 19 :  nan\n",
      "20 20 :  nan\n",
      "30 0 :  nan\n",
      "30 1 :  nan\n",
      "30 2 :  nan\n",
      "30 3 :  nan\n",
      "30 4 :  nan\n",
      "30 5 :  nan\n",
      "30 6 :  nan\n",
      "30 7 :  nan\n",
      "30 8 :  nan\n",
      "30 9 :  nan\n",
      "30 10 :  nan\n",
      "30 11 :  nan\n",
      "30 12 :  nan\n",
      "30 13 :  nan\n",
      "30 14 :  nan\n",
      "30 15 :  nan\n",
      "30 16 :  nan\n",
      "30 17 :  nan\n",
      "30 18 :  nan\n",
      "30 19 :  nan\n",
      "30 20 :  nan\n",
      "40 0 :  nan\n",
      "40 1 :  nan\n",
      "40 2 :  nan\n",
      "40 3 :  nan\n",
      "40 4 :  nan\n",
      "40 5 :  nan\n",
      "40 6 :  nan\n",
      "40 7 :  nan\n",
      "40 8 :  nan\n",
      "40 9 :  nan\n",
      "40 10 :  nan\n",
      "40 11 :  nan\n",
      "40 12 :  nan\n",
      "40 13 :  nan\n",
      "40 14 :  nan\n",
      "40 15 :  nan\n",
      "40 16 :  nan\n",
      "40 17 :  nan\n",
      "40 18 :  nan\n",
      "40 19 :  nan\n",
      "40 20 :  nan\n",
      "50 0 :  nan\n",
      "50 1 :  nan\n",
      "50 2 :  nan\n",
      "50 3 :  nan\n",
      "50 4 :  nan\n",
      "50 5 :  nan\n",
      "50 6 :  nan\n",
      "50 7 :  nan\n",
      "50 8 :  nan\n",
      "50 9 :  nan\n",
      "50 10 :  nan\n",
      "50 11 :  nan\n",
      "50 12 :  nan\n",
      "50 13 :  nan\n",
      "50 14 :  nan\n",
      "50 15 :  nan\n",
      "50 16 :  nan\n",
      "50 17 :  nan\n",
      "50 18 :  nan\n",
      "50 19 :  nan\n",
      "50 20 :  nan\n",
      "60 0 :  nan\n",
      "60 1 :  nan\n",
      "60 2 :  nan\n",
      "60 3 :  nan\n",
      "60 4 :  nan\n",
      "60 5 :  nan\n",
      "60 6 :  nan\n",
      "60 7 :  nan\n",
      "60 8 :  nan\n",
      "60 9 :  nan\n",
      "60 10 :  nan\n",
      "60 11 :  nan\n",
      "60 12 :  nan\n",
      "60 13 :  nan\n",
      "60 14 :  nan\n",
      "60 15 :  nan\n",
      "60 16 :  nan\n",
      "60 17 :  nan\n",
      "60 18 :  nan\n",
      "60 19 :  nan\n",
      "60 20 :  nan\n",
      "70 0 :  nan\n",
      "70 1 :  nan\n",
      "70 2 :  nan\n",
      "70 3 :  nan\n",
      "70 4 :  nan\n",
      "70 5 :  nan\n",
      "70 6 :  nan\n",
      "70 7 :  nan\n",
      "70 8 :  nan\n",
      "70 9 :  nan\n",
      "70 10 :  nan\n",
      "70 11 :  nan\n",
      "70 12 :  nan\n",
      "70 13 :  nan\n",
      "70 14 :  nan\n",
      "70 15 :  nan\n",
      "70 16 :  nan\n",
      "70 17 :  nan\n",
      "70 18 :  nan\n",
      "70 19 :  nan\n",
      "70 20 :  nan\n",
      "80 0 :  nan\n",
      "80 1 :  nan\n",
      "80 2 :  nan\n",
      "80 3 :  nan\n",
      "80 4 :  nan\n",
      "80 5 :  nan\n",
      "80 6 :  nan\n",
      "80 7 :  nan\n",
      "80 8 :  nan\n",
      "80 9 :  nan\n",
      "80 10 :  nan\n",
      "80 11 :  nan\n",
      "80 12 :  nan\n",
      "80 13 :  nan\n",
      "80 14 :  nan\n",
      "80 15 :  nan\n",
      "80 16 :  nan\n",
      "80 17 :  nan\n",
      "80 18 :  nan\n",
      "80 19 :  nan\n",
      "80 20 :  nan\n",
      "90 0 :  nan\n",
      "90 1 :  nan\n",
      "90 2 :  nan\n",
      "90 3 :  nan\n",
      "90 4 :  nan\n",
      "90 5 :  nan\n",
      "90 6 :  nan\n",
      "90 7 :  nan\n",
      "90 8 :  nan\n",
      "90 9 :  nan\n",
      "90 10 :  nan\n",
      "90 11 :  nan\n",
      "90 12 :  nan\n",
      "90 13 :  nan\n",
      "90 14 :  nan\n",
      "90 15 :  nan\n",
      "90 16 :  nan\n",
      "90 17 :  nan\n",
      "90 18 :  nan\n",
      "90 19 :  nan\n",
      "90 20 :  nan\n",
      "100 0 :  nan\n",
      "100 1 :  nan\n",
      "100 2 :  nan\n",
      "100 3 :  nan\n",
      "100 4 :  nan\n",
      "100 5 :  nan\n",
      "100 6 :  nan\n",
      "100 7 :  nan\n",
      "100 8 :  nan\n",
      "100 9 :  nan\n",
      "100 10 :  nan\n",
      "100 11 :  nan\n",
      "100 12 :  nan\n",
      "100 13 :  nan\n",
      "100 14 :  nan\n",
      "100 15 :  nan\n",
      "100 16 :  nan\n",
      "100 17 :  nan\n",
      "100 18 :  nan\n",
      "100 19 :  nan\n",
      "100 20 :  nan\n"
     ]
    }
   ],
   "source": [
    "import matplotlib.pyplot as plt\n",
    "\n",
    "plt.plot(range(len(models[0].train_metrics[2])), models[0].train_metrics[2])\n",
    "plt.show()\n",
    "\n",
    "for model in models:\n",
    "    mses = np.array(model.train_metrics[0])\n",
    "    print(model.window_size, model.num_components, \": \", np.mean(mses[mses < 1000]))\n"
   ]
  },
  {
   "cell_type": "code",
   "execution_count": null,
   "outputs": [],
   "source": [
    "# # Test model\n",
    "#\n",
    "# window_size = 20  # best window_size\n",
    "# num_of_components = 7 # best num_of_components\n",
    "#\n",
    "# test_size = round(0.15*window_size)\n",
    "# test_start = '2017-04-23 00:00:00' # example start of test partition\n",
    "# test_start = datetime.datetime.strptime(test_start, '%Y-%m-%d %H:%M:%S')\n",
    "# flag = 0\n",
    "#\n",
    "# row_number = df.index.get_loc(test_start)\n",
    "#\n",
    "# # Iterate through the data\n",
    "# while flag == 0:\n",
    "#     test_y_end = row_number+test_size+1\n",
    "#     training_X_start = row_number - round(0.85*window_size)\n",
    "#     # Stay within included rows\n",
    "#     if ((test_y_end <= included_rows1[1] and training_X_start >= included_rows1[0])\n",
    "#     or (test_y_end <= included_rows2[1] and training_X_start >= included_rows2[0])\n",
    "#     or (test_y_end <= included_rows3[1] and training_X_start >= included_rows3[0])):\n",
    "#\n",
    "#         scaler = StandardScaler()\n",
    "#\n",
    "#         # Testing set\n",
    "#         test_X = df_array[row_number:test_y_end-1,:-1]\n",
    "#         test_y = df_array[row_number+1:test_y_end,-1]\n",
    "#\n",
    "#         # Training (+ validation) set\n",
    "#         training_X = df_array[training_X_start:row_number,:-1]\n",
    "#         training_y = df_array[training_X_start+1:row_number+1,-1]\n",
    "#\n",
    "#         # Lagged predictor variables and the response variable in one matrix\n",
    "#         test_data = np.column_stack([test_X, test_y])\n",
    "#         training_data = np.column_stack([training_X, training_y])\n",
    "#\n",
    "#         # Compute the mean and std with training data\n",
    "#         scaler.fit(training_data)\n",
    "#         # Perform standardization\n",
    "#         training_data = scaler.transform(training_data)\n",
    "#         test_data = scaler.transform(test_data)\n",
    "#\n",
    "#         if test_y_end == included_rows3[1]:\n",
    "#             flag = 1\n",
    "#\n",
    "#         row_number = row_number + 1\n",
    "#     else:\n",
    "#         if test_y_end > included_rows3[1]:\n",
    "#             flag = 1\n",
    "#\n",
    "#         row_number = row_number + 1\n",
    "#\n",
    "#         # # TODO model fitting\n",
    "#         # for _ in [1]:\n",
    "#         #     ...\n",
    "#\n",
    "#         # # TODO model testing\n",
    "#         # for _ in [1]:\n",
    "#         #     ...\n",
    "#"
   ],
   "metadata": {
    "collapsed": false,
    "pycharm": {
     "name": "#%%\n"
    }
   }
  }
 ],
 "metadata": {
  "kernelspec": {
   "display_name": "Python 3",
   "language": "python",
   "name": "python3"
  },
  "language_info": {
   "codemirror_mode": {
    "name": "ipython",
    "version": 2
   },
   "file_extension": ".py",
   "mimetype": "text/x-python",
   "name": "python",
   "nbconvert_exporter": "python",
   "pygments_lexer": "ipython2",
   "version": "2.7.6"
  }
 },
 "nbformat": 4,
 "nbformat_minor": 0
}
